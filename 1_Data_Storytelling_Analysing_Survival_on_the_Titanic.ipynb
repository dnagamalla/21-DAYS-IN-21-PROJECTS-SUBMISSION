{
  "nbformat": 4,
  "nbformat_minor": 0,
  "metadata": {
    "colab": {
      "provenance": [],
      "include_colab_link": true
    },
    "kernelspec": {
      "name": "python3",
      "display_name": "Python 3"
    },
    "language_info": {
      "name": "python"
    }
  },
  "cells": [
    {
      "cell_type": "markdown",
      "metadata": {
        "id": "view-in-github",
        "colab_type": "text"
      },
      "source": [
        "<a href=\"https://colab.research.google.com/github/dnagamalla/21-DAYS-IN-21-PROJECTS-SUBMISSION/blob/main/1_Data_Storytelling_Analysing_Survival_on_the_Titanic.ipynb\" target=\"_parent\"><img src=\"https://colab.research.google.com/assets/colab-badge.svg\" alt=\"Open In Colab\"/></a>"
      ]
    },
    {
      "cell_type": "markdown",
      "metadata": {
        "id": "intro_markdown"
      },
      "source": [
        "# End-to-End Exploratory Data Analysis (EDA) on the Titanic Dataset\n",
        "\n",
        "**Project Objective:** To perform a comprehensive, step-by-step exploratory data analysis to understand the key factors that influenced survival on the Titanic. This notebook will serve as a complete guide, covering data loading, cleaning, analysis, feature engineering, and visualization, with theoretical explanations at each stage.\n",
        "\n",
        "---"
      ]
    },
    {
      "cell_type": "markdown",
      "metadata": {
        "id": "theory_eda"
      },
      "source": [
        "### **Theoretical Concept: What is Exploratory Data Analysis (EDA)?**\n",
        "\n",
        "Exploratory Data Analysis is the crucial process of performing initial investigations on data to discover patterns, spot anomalies, test hypotheses, and check assumptions with the help of summary statistics and graphical representations. It is not about formal modeling or hypothesis testing; rather, it is about getting to know your data before you start building models.\n",
        "\n",
        "**Why is it important?**\n",
        "1.  **Understand the Data:** It helps you understand the variables and their relationships.\n",
        "2.  **Data Cleaning:** It reveals missing values, outliers, and other inconsistencies that need to be handled.\n",
        "3.  **Feature Selection:** It helps identify which variables are the most important for your problem (feature engineering and selection).\n",
        "4.  **Assumption Checking:** It allows you to check assumptions that are required for certain machine learning models (e.g., normality, linearity)."
      ]
    },
    {
      "cell_type": "markdown",
      "source": [
        "### Libraries Used: Pandas and Seaborn\n",
        "\n",
        "- **Pandas:** This is a powerful Python library for data manipulation and analysis. It provides data structures like DataFrames, which are essential for working with tabular data. We used Pandas to load the dataset, handle missing values, and perform various data transformations.\n",
        "\n",
        "- **Seaborn:** Built on top of Matplotlib, Seaborn is a statistical data visualization library. It provides a high-level interface for drawing attractive and informative statistical graphics. We used Seaborn to create various plots like countplots, histograms, boxplots, and barplots to visualize the distributions and relationships within the data."
      ],
      "metadata": {
        "id": "Ci9ZxEMjwT-v"
      }
    },
    {
      "cell_type": "markdown",
      "metadata": {
        "id": "setup_markdown"
      },
      "source": [
        "### Step 1: Setup - Importing Libraries\n",
        "\n",
        "We'll start by importing the essential Python libraries for data manipulation (`pandas`, `numpy`) and visualization (`matplotlib`, `seaborn`)."
      ]
    },
    {
      "cell_type": "code",
      "metadata": {
        "id": "setup_code"
      },
      "source": [
        "import pandas as pd\n",
        "import numpy as np\n",
        "import matplotlib.pyplot as plt\n",
        "import seaborn as sns\n",
        "\n",
        "# Set plot style for better aesthetics\n",
        "sns.set(style='whitegrid')"
      ],
      "execution_count": null,
      "outputs": []
    },
    {
      "cell_type": "markdown",
      "metadata": {
        "id": "load_data_markdown"
      },
      "source": [
        "### Step 2: Data Loading and Initial Inspection\n",
        "\n",
        "We'll load the dataset and take our first look at its structure, content, and overall health."
      ]
    },
    {
      "cell_type": "code",
      "source": [
        "!git clone 'https://github.com/GeeksforgeeksDS/21-Days-21-Projects-Dataset'"
      ],
      "metadata": {
        "id": "h0OFEVBOpqrB"
      },
      "execution_count": null,
      "outputs": []
    },
    {
      "cell_type": "code",
      "metadata": {
        "id": "load_data_code"
      },
      "source": [
        "# Load the dataset from a URL\n",
        "titanic_df = pd.read_csv('/content/21-Days-21-Projects-Dataset/Datasets/Titanic-Dataset.csv')\n",
        "\n",
        "# Display the first 5 rows\n",
        "print(\"First 5 rows of the dataset:\")\n",
        "titanic_df.head()"
      ],
      "execution_count": null,
      "outputs": []
    },
    {
      "cell_type": "code",
      "source": [
        "titanic_df.tail()"
      ],
      "metadata": {
        "id": "SKeLgInv0v2H"
      },
      "execution_count": null,
      "outputs": []
    },
    {
      "cell_type": "code",
      "source": [
        "titanic_df.shape"
      ],
      "metadata": {
        "id": "BY3bvPgP2Gw0"
      },
      "execution_count": null,
      "outputs": []
    },
    {
      "cell_type": "code",
      "metadata": {
        "id": "info_code"
      },
      "source": [
        "# Get a concise summary of the dataframe\n",
        "print(\"\\nDataset Information:\")\n",
        "titanic_df.info()"
      ],
      "execution_count": null,
      "outputs": []
    },
    {
      "cell_type": "markdown",
      "metadata": {
        "id": "info_analysis_markdown"
      },
      "source": [
        "**Interpretation of `.info()`:**\n",
        "- The dataset contains 891 entries (passengers) and 12 columns.\n",
        "- **Missing Values Identified:** `Age`, `Cabin`, and `Embarked` have missing values. `Cabin` is missing a significant amount of data (~77%), which will require special attention."
      ]
    },
    {
      "cell_type": "code",
      "metadata": {
        "id": "describe_code"
      },
      "source": [
        "# Get descriptive statistics for numerical columns\n",
        "print(\"\\nDescriptive Statistics:\")\n",
        "titanic_df.describe()"
      ],
      "execution_count": null,
      "outputs": []
    },
    {
      "cell_type": "markdown",
      "metadata": {
        "id": "describe_analysis_markdown"
      },
      "source": [
        "**Interpretation of `.describe()`:**\n",
        "- **Survived:** About 38.4% of passengers in this dataset survived.\n",
        "- **Age:** The age ranges from ~5 months to 80 years, with an average age of about 30.\n",
        "- **Fare:** The fare is highly skewed, with a mean of $32 but a median of only $14.45. The maximum fare is over $512, indicating the presence of extreme outliers."
      ]
    },
    {
      "cell_type": "code",
      "source": [
        "titanic_df['Cabin'].value_counts()"
      ],
      "metadata": {
        "id": "ugcS-ETG4YuW"
      },
      "execution_count": null,
      "outputs": []
    },
    {
      "cell_type": "markdown",
      "metadata": {
        "id": "datacleaning_markdown"
      },
      "source": [
        "### Step 3: Data Cleaning\n",
        "\n",
        "Before analysis, we must handle the missing values we identified."
      ]
    },
    {
      "cell_type": "markdown",
      "metadata": {
        "id": "theory_cleaning"
      },
      "source": [
        "#### **Theoretical Concept: Missing Value Imputation**\n",
        "\n",
        "Imputation is the process of replacing missing data with substituted values. The strategy depends on the data type and its distribution:\n",
        "- **Numerical Data:** For skewed distributions (like `Age` and `Fare`), using the **median** is more robust than the mean because it is not affected by outliers.\n",
        "- **Categorical Data:** A common strategy is to fill with the **mode** (the most frequent value).\n",
        "- **High Cardinality/Too Many Missing Values:** For columns like `Cabin`, where most data is missing, imputing might not be effective. We could either drop the column or engineer a new feature from it (e.g., `Has_Cabin`)."
      ]
    },
    {
      "cell_type": "code",
      "source": [
        "titanic_df.isna().sum()"
      ],
      "metadata": {
        "id": "BvmSYGrN53v_"
      },
      "execution_count": null,
      "outputs": []
    },
    {
      "cell_type": "code",
      "source": [
        "print(\"Missing values before cleaning:\")\n",
        "titanic_df.isna().sum()"
      ],
      "metadata": {
        "id": "a21464tTnhDG"
      },
      "execution_count": null,
      "outputs": []
    },
    {
      "cell_type": "code",
      "source": [
        "median = titanic_df['Age'].median()\n",
        "print(median)"
      ],
      "metadata": {
        "id": "XOSHaZ1d6rrf"
      },
      "execution_count": null,
      "outputs": []
    },
    {
      "cell_type": "code",
      "metadata": {
        "id": "cleaning_age_embarked_code"
      },
      "source": [
        "# 1. Handle missing 'Age' values\n",
        "# We use the median to fill missing ages because the age distribution can be skewed.\n",
        "median_age = titanic_df['Age'].median()\n",
        "titanic_df['Age'] = titanic_df['Age'].fillna(median_age)\n",
        "\n",
        "# Verify that there are no more missing values in the columns we handled so far\n",
        "print(\"Missing values after Age cleaning:\")\n",
        "print(titanic_df[['Age', 'Embarked', 'Cabin']].isna().sum())"
      ],
      "execution_count": null,
      "outputs": []
    },
    {
      "cell_type": "code",
      "source": [
        "mode = titanic_df['Embarked'].mode()[0]\n",
        "print(mode)"
      ],
      "metadata": {
        "id": "46f3ca2j7MNv"
      },
      "execution_count": null,
      "outputs": []
    },
    {
      "cell_type": "code",
      "source": [
        "# 2. Handle missing 'Embarked' values\n",
        "# Since there are only two missing values, we'll fill them with the most common port of embarkation (the mode).\n",
        "mode_embarked = titanic_df['Embarked'].mode()[0]\n",
        "titanic_df['Embarked'] = titanic_df['Embarked'].fillna(mode_embarked)\n",
        "\n",
        "# Verify that there are no more missing values in the columns we handled so far\n",
        "print(\"Missing values after Embarked cleaning:\")\n",
        "print(titanic_df[['Age', 'Embarked', 'Cabin']].isna().sum())"
      ],
      "metadata": {
        "id": "2AZxfdNIwsh7"
      },
      "execution_count": null,
      "outputs": []
    },
    {
      "cell_type": "code",
      "source": [
        "# 3. Handle the 'Cabin' column\n",
        "# With over 77% missing data, imputing is not a good idea. Instead, we'll create a new feature 'Has_Cabin'.\n",
        "titanic_df['Has_Cabin'] = titanic_df['Cabin'].notna().astype(int) # 1 if has cabin, 0 if not\n",
        "titanic_df.drop('Cabin', axis=1, inplace=True) # Drop the original column"
      ],
      "metadata": {
        "id": "YenZKl5IwuY0"
      },
      "execution_count": null,
      "outputs": []
    },
    {
      "cell_type": "markdown",
      "source": [
        "titanic_df['Cabin'].notna(): This checks each value in the 'Cabin' column to see if it is not a missing value (NaN). It returns a boolean Series (True for non-missing, False for missing)."
      ],
      "metadata": {
        "id": "d10a3Fbn3DXl"
      }
    },
    {
      "cell_type": "code",
      "source": [
        "titanic_df['Has_Cabin'].value_counts()"
      ],
      "metadata": {
        "id": "dN3SUGwb8M7W"
      },
      "execution_count": null,
      "outputs": []
    },
    {
      "cell_type": "code",
      "source": [
        "titanic_df.head(5)"
      ],
      "metadata": {
        "id": "7OS3Mt_92ksm"
      },
      "execution_count": null,
      "outputs": []
    },
    {
      "cell_type": "code",
      "source": [
        "# Verify that there are no more missing values in the columns we handled\n",
        "print(\"Missing values after cleaning:\")\n",
        "titanic_df.isna().sum()"
      ],
      "metadata": {
        "id": "jQGzGApwwv59"
      },
      "execution_count": null,
      "outputs": []
    },
    {
      "cell_type": "markdown",
      "metadata": {
        "id": "univariate_markdown"
      },
      "source": [
        "### Step 4: Univariate Analysis\n",
        "\n",
        "We analyze each variable individually to understand its distribution."
      ]
    },
    {
      "cell_type": "markdown",
      "metadata": {
        "id": "theory_univariate"
      },
      "source": [
        "#### **Theoretical Concept: Univariate Analysis**\n",
        "\n",
        "This is the simplest form of data analysis, where the data being analyzed contains only one variable. The main purpose is to describe the data and find patterns within it.\n",
        "- **For Categorical Variables:** We use frequency tables, bar charts (`countplot`), or pie charts to see the count or proportion of each category.\n",
        "- **For Numerical Variables:** We use histograms (`histplot`) or kernel density plots (`kdeplot`) to understand the distribution, and box plots (`boxplot`) to identify the central tendency, spread, and outliers."
      ]
    },
    {
      "cell_type": "code",
      "metadata": {
        "id": "univariate_categorical_code"
      },
      "source": [
        "print(\"Analyzing categorical features:\")\n",
        "\n",
        "# Set up the figure for plotting\n",
        "fig, axes = plt.subplots(2, 3, figsize=(18, 12))\n",
        "fig.suptitle('Univariate Analysis of Categorical Features', fontsize=16)\n",
        "\n",
        "# Plotting each categorical feature\n",
        "sns.countplot(ax=axes[0, 0], x='Survived', data=titanic_df).set_title('Survival Distribution')\n",
        "sns.countplot(ax=axes[0, 1], x='Pclass', data=titanic_df).set_title('Passenger Class Distribution')\n",
        "sns.countplot(ax=axes[0, 2], x='Sex', data=titanic_df).set_title('Gender Distribution')\n",
        "sns.countplot(ax=axes[1, 0], x='Embarked', data=titanic_df).set_title('Port of Embarkation')\n",
        "sns.countplot(ax=axes[1, 1], x='SibSp', data=titanic_df).set_title('Siblings/Spouses Aboard')\n",
        "sns.countplot(ax=axes[1, 2], x='Parch', data=titanic_df).set_title('Parents/Children Aboard')\n",
        "\n",
        "plt.tight_layout(rect=[0, 0, 1, 0.96])\n",
        "plt.show()"
      ],
      "execution_count": null,
      "outputs": []
    },
    {
      "cell_type": "markdown",
      "metadata": {
        "id": "univariate_categorical_summary"
      },
      "source": [
        "**Key Insights (Categorical):**\n",
        "- **Survival:** Most passengers (over 500) did not survive.\n",
        "- **Pclass:** The 3rd class was the most populated, followed by 1st and then 2nd.\n",
        "- **Sex:** There were significantly more males than females.\n",
        "- **Embarked:** The vast majority of passengers embarked from Southampton ('S').\n",
        "- **SibSp & Parch:** Most passengers traveled alone."
      ]
    },
    {
      "cell_type": "code",
      "metadata": {
        "id": "univariate_numerical_code"
      },
      "source": [
        "print(\"\\nAnalyzing numerical features:\")\n",
        "\n",
        "fig, axes = plt.subplots(1, 2, figsize=(16, 6))\n",
        "fig.suptitle('Univariate Analysis of Numerical Features', fontsize=16)\n",
        "\n",
        "# Plotting Age distribution\n",
        "sns.histplot(ax=axes[0], data=titanic_df, x='Age', kde=True, bins=30).set_title('Age Distribution')\n",
        "\n",
        "# Plotting Fare distribution\n",
        "sns.histplot(ax=axes[1], data=titanic_df, x='Fare', kde=True, bins=40).set_title('Fare Distribution')\n",
        "\n",
        "plt.show()"
      ],
      "execution_count": null,
      "outputs": []
    },
    {
      "cell_type": "markdown",
      "metadata": {
        "id": "univariate_numerical_summary"
      },
      "source": [
        "**Key Insights (Numerical):**\n",
        "- **Age:** The distribution peaks around the 20-30 age range. Remember we filled missing values with the median (28), which contributes to the height of that central bar.\n",
        "- **Fare:** The distribution is heavily right-skewed, confirming that most tickets were cheap, with a few very expensive exceptions."
      ]
    },
    {
      "cell_type": "markdown",
      "metadata": {
        "id": "bivariate_markdown"
      },
      "source": [
        "### Step 5: Bivariate Analysis\n",
        "\n",
        "Here, we explore the relationship between two variables. Our primary focus will be on how each feature relates to our target variable, `Survived`."
      ]
    },
    {
      "cell_type": "markdown",
      "metadata": {
        "id": "theory_bivariate"
      },
      "source": [
        "#### **Theoretical Concept: Bivariate Analysis**\n",
        "This type of analysis involves two different variables, and its main purpose is to find relationships between them.\n",
        "- **Categorical vs. Numerical:** To compare a numerical variable across different categories, we often use bar plots (`barplot`) that show the mean (or another estimator) of the numerical variable for each category. We can also use box plots or violin plots.\n",
        "- **Categorical vs. Categorical:** We can use stacked bar charts or contingency tables (crosstabs).\n",
        "- **Numerical vs. Numerical:** A scatter plot is the standard choice, with a correlation matrix being used to quantify the relationship."
      ]
    },
    {
      "cell_type": "code",
      "metadata": {
        "id": "bivariate_code"
      },
      "source": [
        "print(\"Bivariate Analysis: Feature vs. Survival\")\n",
        "\n",
        "fig, axes = plt.subplots(2, 2, figsize=(16, 12))\n",
        "fig.suptitle('Bivariate Analysis with Survival', fontsize=16)\n",
        "\n",
        "# Pclass vs. Survived\n",
        "sns.barplot(ax=axes[0, 0], x='Pclass', y='Survived', data=titanic_df).set_title('Survival Rate by Pclass')\n",
        "\n",
        "# Sex vs. Survived\n",
        "sns.barplot(ax=axes[0, 1], x='Sex', y='Survived', data=titanic_df).set_title('Survival Rate by Sex')\n",
        "\n",
        "# Embarked vs. Survived\n",
        "sns.barplot(ax=axes[1, 0], x='Embarked', y='Survived', data=titanic_df).set_title('Survival Rate by Port')\n",
        "\n",
        "# Has_Cabin vs. Survived\n",
        "sns.barplot(ax=axes[1, 1], x='Has_Cabin', y='Survived', data=titanic_df).set_title('Survival Rate by Cabin Availability')\n",
        "\n",
        "plt.tight_layout(rect=[0, 0, 1, 0.96])\n",
        "plt.show()"
      ],
      "execution_count": null,
      "outputs": []
    },
    {
      "cell_type": "markdown",
      "metadata": {
        "id": "bivariate_summary"
      },
      "source": [
        "**Key Insights (Bivariate):**\n",
        "- **Pclass:** A clear trend emerges: 1st class passengers had a >60% survival rate, while 3rd class passengers had less than 25%.\n",
        "- **Sex:** This is the strongest predictor. Females had a survival rate of ~75%, while males had a rate below 20%.\n",
        "- **Embarked:** Passengers embarking from Cherbourg ('C') had a higher survival rate than those from the other ports.\n",
        "- **Has_Cabin:** Passengers with a registered cabin number had a much higher survival rate. This is likely correlated with being in 1st class."
      ]
    },
    {
      "cell_type": "code",
      "metadata": {
        "id": "bivariate_age_code"
      },
      "source": [
        "# Age vs. Survival\n",
        "g = sns.FacetGrid(titanic_df, col='Survived', height=6)\n",
        "g.map(sns.histplot, 'Age', bins=25, kde=True)\n",
        "plt.suptitle('Age Distribution by Survival Status', y=1.02)\n",
        "plt.show()"
      ],
      "execution_count": null,
      "outputs": []
    },
    {
      "cell_type": "markdown",
      "metadata": {
        "id": "bivariate_age_summary"
      },
      "source": [
        "**Key Insight (Age vs. Survival):**\n",
        "- Infants and young children had a higher probability of survival.\n",
        "- A large portion of non-survivors were young adults (20-40).\n",
        "- The oldest passengers (80 years) did not survive."
      ]
    },
    {
      "cell_type": "markdown",
      "metadata": {
        "id": "outlier_markdown"
      },
      "source": [
        "#### Deeper Dive: Outlier Analysis for 'Fare'\n",
        "The `.describe()` function and histogram showed that `Fare` has extreme outliers. Let's visualize this clearly with a box plot."
      ]
    },
    {
      "cell_type": "code",
      "metadata": {
        "id": "outlier_code"
      },
      "source": [
        "plt.figure(figsize=(10, 8))\n",
        "sns.boxplot(y='Fare', data=titanic_df)\n",
        "plt.title('Box Plot of Ticket Fare')\n",
        "plt.ylabel('Fare')\n",
        "plt.show()"
      ],
      "execution_count": null,
      "outputs": []
    },
    {
      "cell_type": "markdown",
      "metadata": {
        "id": "outlier_summary"
      },
      "source": [
        "**Observation:**\n",
        "The box plot confirms the presence of significant outliers. Most fares are concentrated below \\$100, but there are several fares extending far beyond, with some even exceeding \\$500. These are likely first-class passengers who booked luxurious suites. For some machine learning models, handling these outliers (e.g., through log transformation) would be an important step."
      ]
    },
    {
      "cell_type": "markdown",
      "metadata": {
        "id": "feature_eng_markdown"
      },
      "source": [
        "### Step 6: Feature Engineering\n",
        "Now, we'll create new features from the existing ones to potentially uncover deeper insights and provide more useful information for a machine learning model."
      ]
    },
    {
      "cell_type": "markdown",
      "metadata": {
        "id": "theory_feature_eng"
      },
      "source": [
        "#### **Theoretical Concept: Feature Engineering**\n",
        "Feature engineering is the process of using domain knowledge to extract features (characteristics, properties, attributes) from raw data. A good feature should be relevant to the problem and easy for a model to understand.\n",
        "\n",
        "**Common Techniques:**\n",
        "1.  **Combining Features:** Creating a new feature by combining others (e.g., `SibSp` + `Parch` = `FamilySize`).\n",
        "2.  **Extracting from Text:** Pulling out specific information from a text feature (e.g., extracting titles from the `Name` column).\n",
        "3.  **Binning:** Converting a continuous numerical feature into a categorical one (e.g., binning `Age` into groups like 'Child', 'Adult', 'Senior')."
      ]
    },
    {
      "cell_type": "code",
      "metadata": {
        "id": "feature_eng_familysize_code"
      },
      "source": [
        "# 1. Create a 'FamilySize' feature\n",
        "titanic_df['FamilySize'] = titanic_df['SibSp'] + titanic_df['Parch'] + 1 # +1 for the person themselves\n",
        "\n",
        "# 2. Create an 'IsAlone' feature\n",
        "titanic_df['IsAlone'] = 0\n",
        "titanic_df.loc[titanic_df['FamilySize'] == 1, 'IsAlone'] = 1\n",
        "\n",
        "print(\"Created 'FamilySize' and 'IsAlone' features:\")\n",
        "titanic_df[['FamilySize', 'IsAlone']].head()"
      ],
      "execution_count": null,
      "outputs": []
    },
    {
      "cell_type": "code",
      "metadata": {
        "id": "analyze_familysize_code"
      },
      "source": [
        "# Analyze the new family-related features against survival\n",
        "fig, axes = plt.subplots(1, 2, figsize=(16, 6))\n",
        "\n",
        "# Survival Rate by FamilySize\n",
        "sns.barplot(ax=axes[0], x='FamilySize', y='Survived', data=titanic_df).set_title('Survival Rate by Family Size')\n",
        "\n",
        "# Survival Rate by IsAlone\n",
        "sns.barplot(ax=axes[1], x='IsAlone', y='Survived', data=titanic_df).set_title('Survival Rate for Those Traveling Alone')\n",
        "\n",
        "plt.show()"
      ],
      "execution_count": null,
      "outputs": []
    },
    {
      "cell_type": "markdown",
      "metadata": {
        "id": "analyze_familysize_summary"
      },
      "source": [
        "**Insight:**\n",
        "- Passengers who were alone (`IsAlone=1`) had a lower survival rate (~30%) than those in small families.\n",
        "- Small families of 2 to 4 members had the highest survival rates.\n",
        "- Very large families (5 or more) had a very poor survival rate. This might be because it was harder for large families to stay together and evacuate."
      ]
    },
    {
      "cell_type": "markdown",
      "source": [
        "* Matches a space.\n",
        "* Titles in the names are usually preceded by a space.\n",
        "([A-Za-z]+): This is the capturing group.\n",
        "* [A-Za-z]+: Matches one or more uppercase or lowercase letters. This captures the title itself (like Mr, Mrs, Miss, etc.).\n",
        "* \\.: Matches a literal dot (.) which usually follows the title."
      ],
      "metadata": {
        "id": "iGDfkmfeCtQI"
      }
    },
    {
      "cell_type": "code",
      "metadata": {
        "id": "feature_eng_title_code"
      },
      "source": [
        "# 3. Extract 'Title' from the 'Name' column\n",
        "titanic_df['Title'] = titanic_df['Name'].str.extract(r' ([A-Za-z]+)\\.', expand=False)\n",
        "\n",
        "# Let's see the different titles\n",
        "print(\"Extracted Titles:\")\n",
        "titanic_df['Title'].value_counts()"
      ],
      "execution_count": null,
      "outputs": []
    },
    {
      "cell_type": "code",
      "metadata": {
        "id": "clean_title_code"
      },
      "source": [
        "# Simplify the titles by grouping rare ones into a 'Rare' category\n",
        "titanic_df['Title'] = titanic_df['Title'].replace(['Lady', 'Countess','Capt', 'Col','Don', 'Dr', 'Major', 'Rev', 'Sir', 'Jonkheer', 'Dona'], 'Rare')\n",
        "\n",
        "titanic_df['Title'] = titanic_df['Title'].replace('Mlle', 'Miss')\n",
        "titanic_df['Title'] = titanic_df['Title'].replace('Ms', 'Miss')\n",
        "titanic_df['Title'] = titanic_df['Title'].replace('Mme', 'Mrs')\n",
        "\n",
        "# Let's see the survival rate by the new, cleaned titles\n",
        "plt.figure(figsize=(12, 6))\n",
        "sns.barplot(x='Title', y='Survived', data=titanic_df)\n",
        "plt.title('Survival Rate by Title')\n",
        "plt.ylabel('Survival Probability')\n",
        "plt.show()"
      ],
      "execution_count": null,
      "outputs": []
    },
    {
      "cell_type": "markdown",
      "metadata": {
        "id": "clean_title_summary"
      },
      "source": [
        "**Insight:**\n",
        "The `Title` feature gives us powerful information. 'Mrs' and 'Miss' (females) had high survival rates. 'Mr' (males) had a very low survival rate. 'Master' (young boys) had a significantly higher survival rate than 'Mr', reinforcing the 'children first' idea. The 'Rare' titles, often associated with nobility or status, also had a mixed but generally higher survival rate than common men."
      ]
    },
    {
      "cell_type": "markdown",
      "metadata": {
        "id": "multivariate_markdown"
      },
      "source": [
        "### Step 7: Multivariate Analysis\n",
        "\n",
        "Now we explore interactions between multiple variables simultaneously, including our new engineered features."
      ]
    },
    {
      "cell_type": "code",
      "metadata": {
        "id": "multivariate_code"
      },
      "source": [
        "# Survival rate by Pclass and Sex\n",
        "sns.catplot(x='Pclass', y='Survived', hue='Sex', data=titanic_df, kind='bar', height=6, aspect=1.5)\n",
        "plt.title('Survival Rate by Pclass and Sex')\n",
        "plt.ylabel('Survival Probability')\n",
        "plt.show()\n",
        "\n",
        "# Insights: Females in all classes had a significantly higher survival rate than males."
      ],
      "execution_count": null,
      "outputs": []
    },
    {
      "cell_type": "code",
      "metadata": {
        "id": "multivariate_violin_plot"
      },
      "source": [
        "# Violin plot to see age distribution by sex and survival status\n",
        "plt.figure(figsize=(14, 8))\n",
        "sns.violinplot(x='Sex', y='Age', hue='Survived', data=titanic_df, split=True, palette={0: 'blue', 1: 'orange'})\n",
        "plt.title('Age Distribution by Sex and Survival')\n",
        "plt.show()"
      ],
      "execution_count": null,
      "outputs": []
    },
    {
      "cell_type": "markdown",
      "metadata": {
        "id": "multivariate_violin_summary"
      },
      "source": [
        "**Insight from Violin Plot:**\n",
        "- For males, the peak of the distribution for survivors (orange) is at a very young age (children), while the peak for non-survivors is in the 20-30 range.\n",
        "- For females, the distribution of survivors is much broader, indicating that females of most ages had a good chance of surviving."
      ]
    },
    {
      "cell_type": "markdown",
      "metadata": {
        "id": "correlation_markdown"
      },
      "source": [
        "### Step 8: Correlation Analysis"
      ]
    },
    {
      "cell_type": "code",
      "metadata": {
        "id": "correlation_heatmap_code"
      },
      "source": [
        "# Correlation Heatmap for numerical features\n",
        "plt.figure(figsize=(14, 10))\n",
        "numeric_cols = titanic_df.select_dtypes(include=np.number)\n",
        "correlation_matrix = numeric_cols.corr()\n",
        "sns.heatmap(correlation_matrix, annot=True, cmap='coolwarm', fmt='.2f')\n",
        "plt.title('Correlation Matrix of Numerical Features')\n",
        "plt.show()"
      ],
      "execution_count": null,
      "outputs": []
    },
    {
      "cell_type": "markdown",
      "metadata": {
        "id": "correlation_summary"
      },
      "source": [
        "**Interpretation of the Heatmap:**\n",
        "- **`Survived`** has a notable positive correlation with `Fare` and `Has_Cabin`, and a negative correlation with `Pclass` and our new `IsAlone` feature.\n",
        "- **`Pclass`** and `Fare` are strongly negatively correlated, which makes sense (1st class = high fare).\n",
        "- Our new **`FamilySize`** feature is composed of `SibSp` and `Parch`, so it's highly correlated with them by definition."
      ]
    },
    {
      "cell_type": "code",
      "source": [
        "import pandas as pd\n",
        "\n",
        "# Create a sample DataFrame\n",
        "sample_data = {'col1': [1, 2, 3, 4],\n",
        "               'col2': ['A', 'B', 'C', 'D'],\n",
        "               'col3': [True, False, True, False]}\n",
        "sample_df = pd.DataFrame(sample_data)\n",
        "\n",
        "# Display the sample DataFrame\n",
        "print(\"Sample DataFrame:\")\n",
        "display(sample_df)"
      ],
      "metadata": {
        "id": "bS2fIqetRrkN"
      },
      "execution_count": null,
      "outputs": []
    },
    {
      "cell_type": "markdown",
      "source": [
        "# A sample dataframe is added here, do your analysis of titanic dataframe and provide us the y-profiling of that"
      ],
      "metadata": {
        "id": "OvT0Eyj-SFNv"
      }
    },
    {
      "cell_type": "code",
      "source": [
        "# Install ydata-profiling\n",
        "!pip install ydata-profiling -q"
      ],
      "metadata": {
        "id": "VceHoRvqxs7F"
      },
      "execution_count": null,
      "outputs": []
    },
    {
      "cell_type": "code",
      "source": [
        "# Generate the profiling report\n",
        "from ydata_profiling import ProfileReport\n",
        "\n",
        "profile = ProfileReport(sample_df, title=\"Titanic Dataset Profiling Report\")\n",
        "\n",
        "# Display the report in the notebook\n",
        "profile.to_notebook_iframe()"
      ],
      "metadata": {
        "id": "-4-C4MgHygiF"
      },
      "execution_count": null,
      "outputs": []
    },
    {
      "cell_type": "code",
      "source": [
        "# Save the report to an HTML file\n",
        "profile.to_file(\"sample.html\")"
      ],
      "metadata": {
        "id": "vKlgRdQvy9A9"
      },
      "execution_count": null,
      "outputs": []
    },
    {
      "cell_type": "markdown",
      "metadata": {
        "id": "conclusion_markdown"
      },
      "source": [
        "### Step 9: Final Conclusion and Summary of Insights\n",
        "\n",
        "This end-to-end EDA has provided a deep understanding of the Titanic dataset. Our analysis confirms the \"women and children first\" narrative and highlights the stark social inequalities of the time. Through feature engineering, we've created even more powerful predictors for a potential machine learning model.\n",
        "\n",
        "**Key Findings:**\n",
        "1.  **Strongest Predictors of Survival:**\n",
        "    - **Title & Sex:** Being female ('Mrs', 'Miss') was the single most significant advantage. Our engineered `Title` feature captures this nuance better than `Sex` alone, also showing that young boys ('Master') had a much higher survival rate than adult men ('Mr').\n",
        "    - **Passenger Class:** There was a clear survival hierarchy: 1st > 2nd > 3rd class.\n",
        "    - **Age:** Children and infants had a higher survival rate.\n",
        "\n",
        "2.  **Other Influential Factors:**\n",
        "    - **Family Size:** Traveling in a small family (2-4 members) increased survival chances, while traveling alone or in a very large family decreased them.\n",
        "    - **Fare/Cabin:** Having a cabin (and thus paying a higher fare) was strongly correlated with survival, acting as a proxy for wealth and passenger class.\n",
        "    - **Port of Embarkation:** Passengers from Cherbourg ('C') had a higher survival rate, possibly because a higher proportion of them were in 1st class.\n",
        "\n",
        "These insights are fundamental for the next step in the data science pipeline: building a predictive machine learning model to forecast survival."
      ]
    }
  ]
}